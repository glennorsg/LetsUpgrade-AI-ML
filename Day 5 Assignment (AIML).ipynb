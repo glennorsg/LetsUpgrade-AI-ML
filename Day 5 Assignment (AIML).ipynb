{
 "cells": [
  {
   "cell_type": "markdown",
   "metadata": {},
   "source": [
    "### Question 1 (First 20 non-even prime numbers)"
   ]
  },
  {
   "cell_type": "code",
   "execution_count": 7,
   "metadata": {},
   "outputs": [
    {
     "name": "stdout",
     "output_type": "stream",
     "text": [
      "The First 20 Non-Even Prime numbers are:\n",
      "3 5 7 11 13 17 19 23 29 31 37 41 43 47 53 59 61 67 71 73 "
     ]
    }
   ],
   "source": [
    "num = 2\n",
    "count = 0\n",
    "print(\"The First 20 Non-Even Prime numbers are:\")\n",
    "while count < 20:\n",
    "    for i in range(2,num):\n",
    "        if(num%i == 0):\n",
    "            break\n",
    "    else: \n",
    "        if num%2 != 0:\n",
    "            print(num,end=\" \")\n",
    "            count = count + 1\n",
    "    num = num + 1\n",
    "    \n",
    "        "
   ]
  },
  {
   "cell_type": "markdown",
   "metadata": {},
   "source": [
    "### Question 2 (15 functions of string)"
   ]
  },
  {
   "cell_type": "code",
   "execution_count": 1,
   "metadata": {},
   "outputs": [
    {
     "name": "stdout",
     "output_type": "stream",
     "text": [
      "Enter String:Hello! My name is Glenn Vednesan.\n",
      "Capitalised String: Hello! my name is glenn vednesan.\n",
      "\n",
      "Uppercase String: HELLO! MY NAME IS GLENN VEDNESAN.\n",
      "\n",
      "Lowercase String: hello! my name is glenn vednesan.\n",
      "\n",
      "Enter Split Character:e\n",
      "Split String: ['H', 'llo! My nam', ' is Gl', 'nn V', 'dn', 'san.']\n",
      "\n",
      "Space REPLACED by **: Hello!**My**name**is**Glenn**Vednesan.\n",
      "\n",
      "Find first index of:n\n",
      "first Index of n is: 10\n",
      "\n",
      "Find last index of:n\n",
      "last index of n is: 31\n",
      "\n",
      "Enter partition String:name\n",
      "Partition: ('Hello! My ', 'name', ' is Glenn Vednesan.')\n",
      "\n",
      "translation: {97: 33, 101: 64, 105: 35, 111: 36, 117: 37}\n",
      "Translated String: H@ll$! My n!m@ #s Gl@nn V@dn@s!n.\n",
      "\n",
      "Enter Start String:he\n",
      "Starts with he : False\n",
      "\n",
      "Enter End String:an.\n",
      "Ends with an. : True\n",
      "\n",
      "String is Uppercase: False\n",
      "\n",
      "String is lowercase: False\n",
      "\n",
      "Tuple: ('Good', 'Morning')\n",
      "Token: %%\n",
      "Joined String: Good%%Morning\n"
     ]
    }
   ],
   "source": [
    "str = input(\"Enter String:\")\n",
    "print(\"Capitalised String:\",str.capitalize())\n",
    "\n",
    "print(\"\\nUppercase String:\",str.upper())\n",
    "\n",
    "print(\"\\nLowercase String:\",str.lower())\n",
    "\n",
    "s= input(\"\\nEnter Split Character:\")\n",
    "print(\"Split String:\",str.split(s))\n",
    "\n",
    "print(\"\\nSpace REPLACED by **:\",str.replace(\" \", \"**\"))\n",
    "\n",
    "a = input(\"\\nFind first index of:\")\n",
    "print(\"first Index of\",a,\"is:\",str.index(a))\n",
    "\n",
    "l = input(\"\\nFind last index of:\")\n",
    "print(\"last index of\",l,\"is:\",str.rindex(l))\n",
    "\n",
    "p = input(\"\\nEnter partition String:\")\n",
    "print(\"Partition:\", str.partition(p))\n",
    "\n",
    "inputStr = \"aeiou\"\n",
    "outputStr = \"!@#$%\"\n",
    "translation = str.maketrans(inputStr, outputStr)\n",
    "print(\"\\ntranslation:\",translation)\n",
    "print(\"Translated String:\", str.translate(translation))\n",
    "\n",
    "sw = input(\"\\nEnter Start String:\")\n",
    "print(\"Starts with\",sw,\":\",str.startswith(sw))\n",
    "\n",
    "ew = input(\"\\nEnter End String:\")\n",
    "print(\"Ends with\",ew,\":\",str.endswith(ew))\n",
    "\n",
    "print(\"\\nString is Uppercase:\",str.isupper())\n",
    "\n",
    "print(\"\\nString is lowercase:\",str.islower())\n",
    "\n",
    "tup=(\"Good\",\"Morning\")\n",
    "print(\"\\nTuple:\",tup)\n",
    "token = \"%%\"\n",
    "print(\"Token:\",token)\n",
    "print(\"Joined String:\",token.join(tup))"
   ]
  },
  {
   "cell_type": "markdown",
   "metadata": {},
   "source": [
    "### Question 3 (Palindrome or Anagram or none)"
   ]
  },
  {
   "cell_type": "code",
   "execution_count": 9,
   "metadata": {},
   "outputs": [
    {
     "name": "stdout",
     "output_type": "stream",
     "text": [
      "Input String: madam\n",
      "Enter string to check Anagram: adam\n",
      "madam is a palindrome\n",
      " madam is not an Anagram of adam\n"
     ]
    }
   ],
   "source": [
    "def isPalindrome(str1):\n",
    "    for i,j in zip(range(len(str1)-1), range(len(str1)-1, 0, -1)):\n",
    "        if str1[i] != str1[j]:\n",
    "            return False\n",
    "        if i>=j:\n",
    "            return True\n",
    "def isAnagram(str1, str2):\n",
    "    if sorted(str1) == sorted(str2):\n",
    "        return True\n",
    "    else:\n",
    "        return False\n",
    "    \n",
    "str1 = input(\"Input String: \")\n",
    "pal = isPalindrome(str1)\n",
    "str2 = input(\"Enter string to check Anagram: \")\n",
    "ana = isAnagram(str1,str2)\n",
    "if not pal and not ana:\n",
    "    print(str1,\"is not a palindrome\\n\",str1,\"is not an Anagram of\",str2)\n",
    "elif pal and not ana:\n",
    "    print(str1,\"is a palindrome\\n\",str1,\"is not an Anagram of\",str2)\n",
    "elif not pal and ana:\n",
    "    print(str1,\"is not a palindrome\\n\",str1,\"is an Anagram of\",str2)\n",
    "else:\n",
    "    print(str1,\"is a palindrome\\n\",str1,\"is an Anagram of\",str2)"
   ]
  },
  {
   "cell_type": "raw",
   "metadata": {},
   "source": [
    "Input String: dad\n",
    "Enter string to check Anagram: add\n",
    "dad is a palindrome\n",
    " dad is an Anagram of add"
   ]
  },
  {
   "cell_type": "markdown",
   "metadata": {},
   "source": [
    "### Question 4 (Remove Additional Characters)"
   ]
  },
  {
   "cell_type": "code",
   "execution_count": 8,
   "metadata": {},
   "outputs": [
    {
     "name": "stdout",
     "output_type": "stream",
     "text": [
      "Enter String:Hello!! My email id is glennrsg@gmail.com!!\n",
      "Modified string: hellomyemailidisglennrsggmailcom\n"
     ]
    }
   ],
   "source": [
    "def cleanString(str):\n",
    "    str = str.lower()\n",
    "    temp = []\n",
    "    for i in range(len(str)):\n",
    "        a = ord(str[i])\n",
    "        if a >= 97 and a <=122:\n",
    "            temp.append(str[i])\n",
    "    return ''.join(temp)\n",
    "\n",
    "str = input(\"Enter String:\")\n",
    "print(\"Modified string:\",cleanString(str))\n",
    "\n"
   ]
  },
  {
   "cell_type": "code",
   "execution_count": null,
   "metadata": {},
   "outputs": [],
   "source": []
  }
 ],
 "metadata": {
  "kernelspec": {
   "display_name": "Python 3",
   "language": "python",
   "name": "python3"
  },
  "language_info": {
   "codemirror_mode": {
    "name": "ipython",
    "version": 3
   },
   "file_extension": ".py",
   "mimetype": "text/x-python",
   "name": "python",
   "nbconvert_exporter": "python",
   "pygments_lexer": "ipython3",
   "version": "3.7.6"
  },
  "widgets": {
   "application/vnd.jupyter.widget-state+json": {
    "state": {},
    "version_major": 2,
    "version_minor": 0
   }
  }
 },
 "nbformat": 4,
 "nbformat_minor": 4
}
