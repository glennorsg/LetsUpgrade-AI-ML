{
 "cells": [
  {
   "cell_type": "markdown",
   "metadata": {},
   "source": [
    "### Question 1 (Comparison of array)"
   ]
  },
  {
   "cell_type": "code",
   "execution_count": 2,
   "metadata": {},
   "outputs": [
    {
     "name": "stdout",
     "output_type": "stream",
     "text": [
      "Array 1: [[1 2 3]\n",
      " [5 6 7]]\n",
      "Array 2: [[8 9 0]\n",
      " [1 6 7]]\n",
      "\n",
      "Greater: [[False False  True]\n",
      " [ True False False]]\n",
      "\n",
      "Greater Equals: [[False False  True]\n",
      " [ True  True  True]]\n",
      "\n",
      "Less: [[ True  True False]\n",
      " [False False False]]\n",
      "\n",
      "Less Equal: [[ True  True False]\n",
      " [False  True  True]]\n"
     ]
    }
   ],
   "source": [
    "import numpy as np\n",
    "np_array1 = np.array([[1,2,3],[5,6,7]])\n",
    "np_array2 = np.array([[8,9,0],[1,6,7]])\n",
    "print(\"Array 1:\",np_array1)\n",
    "print(\"Array 2:\",np_array2)\n",
    "print(\"\\nGreater:\",np.greater(np_array1,np_array2))\n",
    "print(\"\\nGreater Equals:\",np.greater_equal(np_array1,np_array2))\n",
    "print(\"\\nLess:\",np.less(np_array1,np_array2))\n",
    "print(\"\\nLess Equal:\",np.less_equal(np_array1,np_array2))\n",
    "\n"
   ]
  },
  {
   "cell_type": "markdown",
   "metadata": {},
   "source": [
    "### Question 2 (Zeros, Ones, Fives)"
   ]
  },
  {
   "cell_type": "code",
   "execution_count": 9,
   "metadata": {},
   "outputs": [
    {
     "name": "stdout",
     "output_type": "stream",
     "text": [
      "ZEROS: [0. 0. 0. 0. 0. 0. 0. 0. 0. 0.]\n",
      "ZEROS: [1. 1. 1. 1. 1. 1. 1. 1. 1. 1.]\n",
      "ZEROS: [5. 5. 5. 5. 5. 5. 5. 5. 5. 5.]\n"
     ]
    }
   ],
   "source": [
    "np_zeros = np.zeros(10)\n",
    "print(\"ZEROS:\",np_zeros)\n",
    "\n",
    "np_ones = np.ones(10)\n",
    "print(\"Ones:\",np_ones)\n",
    "\n",
    "np_fives = np.ones(10) * 5\n",
    "print(\"Fives:\",np_fives)"
   ]
  },
  {
   "cell_type": "markdown",
   "metadata": {},
   "source": [
    "### Question 3 (Sum of all elements, each row and each column)"
   ]
  },
  {
   "cell_type": "code",
   "execution_count": 4,
   "metadata": {},
   "outputs": [
    {
     "name": "stdout",
     "output_type": "stream",
     "text": [
      "Array:\n",
      " [[ 3  4  5]\n",
      " [ 6  7  8]\n",
      " [10  7 23]]\n",
      "Sum of all elements: 73\n",
      "Row wise sum: [12 21 40]\n",
      "Column wise sum: [19 18 36]\n"
     ]
    }
   ],
   "source": [
    "import numpy as np\n",
    "np_array = np.array([[3,4,5],[6,7,8],[10,7,23]])\n",
    "print(\"Array:\\n\",np_array)\n",
    "print(\"Sum of all elements:\",np.sum(np_array))\n",
    "print(\"Row wise sum:\", np.sum(np_array,axis=1))\n",
    "print(\"Column wise sum:\", np.sum(np_array,axis=0))\n"
   ]
  },
  {
   "cell_type": "markdown",
   "metadata": {},
   "source": [
    "### Question 4 (Add Subtract Multiply Divide)"
   ]
  },
  {
   "cell_type": "code",
   "execution_count": 8,
   "metadata": {},
   "outputs": [
    {
     "name": "stdout",
     "output_type": "stream",
     "text": [
      "ADD:\n",
      " [[10 12  5]\n",
      " [ 8 10 12]\n",
      " [11  7 27]]\n",
      "Subtract:\n",
      " [[-4 -4  5]\n",
      " [ 4  4  4]\n",
      " [ 9  7 19]]\n",
      "Multiply:\n",
      " [[21 32  0]\n",
      " [12 21 32]\n",
      " [10  0 92]]\n",
      "Divide:\n",
      " [[ 0.42857143  0.5                inf]\n",
      " [ 3.          2.33333333  2.        ]\n",
      " [10.                 inf  5.75      ]]\n"
     ]
    },
    {
     "name": "stderr",
     "output_type": "stream",
     "text": [
      "C:\\ProgramData\\Anaconda3\\lib\\site-packages\\ipykernel_launcher.py:7: RuntimeWarning: divide by zero encountered in true_divide\n",
      "  import sys\n"
     ]
    }
   ],
   "source": [
    "np_array1 = np.array([[3,4,5],[6,7,8],[10,7,23]])\n",
    "np_array2 = np.array([[7,8,0],[2,3,4],[1,0,4]])\n",
    "\n",
    "print(\"ADD:\\n\", np.add(np_array1,np_array2))\n",
    "print(\"Subtract:\\n\",np.subtract(np_array1,np_array2))\n",
    "print(\"Multiply:\\n\",np.multiply(np_array1,np_array2))\n",
    "print(\"Divide:\\n\",np.divide(np_array1,np_array2))"
   ]
  },
  {
   "cell_type": "markdown",
   "metadata": {},
   "source": [
    "### Question 5 (Sin, Cos, Tan)"
   ]
  },
  {
   "cell_type": "code",
   "execution_count": 24,
   "metadata": {},
   "outputs": [
    {
     "name": "stdout",
     "output_type": "stream",
     "text": [
      "Sin:\n",
      " [ 0.89399666 -0.30481062  0.58061118  0.85090352 -0.98803162]\n",
      "Cos:\n",
      " [-0.44807362 -0.95241298  0.81418097  0.52532199  0.15425145]\n",
      "Tan:\n",
      " [-1.99520041  0.32004039  0.71312301  1.61977519 -6.4053312 ]\n"
     ]
    }
   ],
   "source": [
    "np_array = np.array([90,60,120,45,30])\n",
    "\n",
    "np_sin = np.array([])\n",
    "np_cos = np.array([])\n",
    "np_tan = np.array([])\n",
    "for i in np_array:\n",
    "    np_sin = np.append(np_sin,[np.sin(i)])\n",
    "    np_cos = np.append(np_cos,[np.cos(i)])\n",
    "    np_tan = np.append(np_tan,[np.tan(i)])\n",
    "\n",
    "print(\"Sin:\\n\",np_sin)\n",
    "print(\"Cos:\\n\",np_cos)\n",
    "print(\"Tan:\\n\",np_tan)"
   ]
  },
  {
   "cell_type": "code",
   "execution_count": null,
   "metadata": {},
   "outputs": [],
   "source": []
  }
 ],
 "metadata": {
  "kernelspec": {
   "display_name": "Python 3",
   "language": "python",
   "name": "python3"
  },
  "language_info": {
   "codemirror_mode": {
    "name": "ipython",
    "version": 3
   },
   "file_extension": ".py",
   "mimetype": "text/x-python",
   "name": "python",
   "nbconvert_exporter": "python",
   "pygments_lexer": "ipython3",
   "version": "3.7.6"
  }
 },
 "nbformat": 4,
 "nbformat_minor": 4
}
