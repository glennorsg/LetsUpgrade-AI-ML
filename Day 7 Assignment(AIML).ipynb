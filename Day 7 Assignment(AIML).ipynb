{
 "cells": [
  {
   "cell_type": "markdown",
   "metadata": {},
   "source": [
    "### Question 1(Copy content fromone file to another)"
   ]
  },
  {
   "cell_type": "code",
   "execution_count": 6,
   "metadata": {},
   "outputs": [],
   "source": [
    "#method 1\n",
    "file1 = open(\"file1.txt\",'r')\n",
    "file2 = open(\"file2.txt\",'a')\n",
    "str = file1.readline()\n",
    "while str:\n",
    "    file2.write(str)\n",
    "    str = file1.readline()\n",
    "file2.close()\n",
    "file1.close()"
   ]
  },
  {
   "cell_type": "code",
   "execution_count": 7,
   "metadata": {},
   "outputs": [],
   "source": [
    "#method 2\n",
    "file1 = open(\"file1.txt\",'r')\n",
    "file2 = open(\"file3.txt\",'a')\n",
    "for line in file1:\n",
    "    file2.write(line)\n",
    "file1.close()\n",
    "file2.close()"
   ]
  },
  {
   "cell_type": "markdown",
   "metadata": {},
   "source": [
    "### Question 2(maximum and minimum value in dictionary)"
   ]
  },
  {
   "cell_type": "code",
   "execution_count": 12,
   "metadata": {},
   "outputs": [
    {
     "name": "stdout",
     "output_type": "stream",
     "text": [
      "Max Value: 6765\n",
      "Min Value: 908\n"
     ]
    }
   ],
   "source": [
    "d = {0:1980, 1:5673, 2:1984, 3:908, 4:6765}\n",
    "max_val,min_val = 0,9999999\n",
    "for k,v in d.items():\n",
    "    if v < min_val:\n",
    "        min_val = v\n",
    "    if v > max_val:\n",
    "        max_val = v\n",
    "print(\"Max Value:\",max_val)\n",
    "print(\"Min Value:\",min_val)\n"
   ]
  }
 ],
 "metadata": {
  "kernelspec": {
   "display_name": "Python 3",
   "language": "python",
   "name": "python3"
  },
  "language_info": {
   "codemirror_mode": {
    "name": "ipython",
    "version": 3
   },
   "file_extension": ".py",
   "mimetype": "text/x-python",
   "name": "python",
   "nbconvert_exporter": "python",
   "pygments_lexer": "ipython3",
   "version": "3.7.6"
  }
 },
 "nbformat": 4,
 "nbformat_minor": 4
}
