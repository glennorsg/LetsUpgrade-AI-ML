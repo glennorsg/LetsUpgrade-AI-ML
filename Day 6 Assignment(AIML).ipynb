{
 "cells": [
  {
   "cell_type": "markdown",
   "metadata": {},
   "source": [
    "### Question 1 (Get company from email)"
   ]
  },
  {
   "cell_type": "code",
   "execution_count": 5,
   "metadata": {},
   "outputs": [
    {
     "name": "stdout",
     "output_type": "stream",
     "text": [
      "Enter Email id:gvednesan@omniscient.co.in\n",
      "The company is: omniscient\n"
     ]
    }
   ],
   "source": [
    "import re\n",
    "email = input(\"Enter Email id:\")\n",
    "at = email.index(\"@\")\n",
    "dot = email.index(\".\")\n",
    "print(\"The company is:\",email[at+1:dot])"
   ]
  },
  {
   "cell_type": "markdown",
   "metadata": {},
   "source": [
    "### Question 2(Order Strings)"
   ]
  },
  {
   "cell_type": "code",
   "execution_count": 8,
   "metadata": {},
   "outputs": [
    {
     "name": "stdout",
     "output_type": "stream",
     "text": [
      "Enter List of Strings:hello,qwerty,elect,apples,procrastination,banana,aisle\n",
      "\n",
      "The sorted list is: aisle,apples,banana,elect,hello,procrastination,qwerty\n"
     ]
    }
   ],
   "source": [
    "strList = input(\"Enter List of Strings:\")\n",
    "strList = strList.split(',')\n",
    "strList.sort()\n",
    "print(\"\\nThe sorted list is:\",','.join(strList))"
   ]
  },
  {
   "cell_type": "markdown",
   "metadata": {},
   "source": [
    "### Question 3(Sets)"
   ]
  },
  {
   "cell_type": "code",
   "execution_count": 9,
   "metadata": {},
   "outputs": [
    {
     "name": "stdout",
     "output_type": "stream",
     "text": [
      "SET: {'grapes', 'banana', 'kiwi', 'apple', 'orange', 'sweet lime'}\n",
      "\n",
      "Enter Element to add:dragonfruit\n",
      "Set: {'grapes', 'banana', 'kiwi', 'apple', 'orange', 'sweet lime', 'dragonfruit'}\n",
      "\n",
      "Enter Element to remove:orange\n",
      "Set: {'grapes', 'banana', 'kiwi', 'apple', 'sweet lime', 'dragonfruit'}\n",
      "\n",
      "Popped Element: grapes\n",
      "Set: {'banana', 'kiwi', 'apple', 'sweet lime', 'dragonfruit'}\n",
      "\n",
      "Set1: {'banana', 'kiwi', 'apple', 'sweet lime', 'dragonfruit'}\n",
      "Set2: {'grapes', 'papaya', 'kiwi', 'pear', 'tomato', 'watermelon'}\n",
      "\n",
      "Union:  {'grapes', 'banana', 'papaya', 'kiwi', 'apple', 'pear', 'sweet lime', 'watermelon', 'tomato', 'dragonfruit'}\n",
      "\n",
      "Intersection:  {'kiwi'}\n",
      "\n",
      "Difference:  {'banana', 'sweet lime', 'dragonfruit', 'apple'}\n",
      "\n",
      "Set1 and Set2 are disjoint:  False\n",
      "\n",
      "SuperSet:  False\n",
      "\n",
      "Subset:  False\n"
     ]
    }
   ],
   "source": [
    "set1 = {\"orange\",\"banana\",\"kiwi\",\"apple\",\"sweet lime\",\"grapes\"}\n",
    "print(\"SET:\",set1)\n",
    "\n",
    "s = input(\"\\nEnter Element to add:\")\n",
    "set1.add(s)\n",
    "print(\"Set:\",set1)\n",
    "\n",
    "r = input(\"\\nEnter Element to remove:\")\n",
    "set1.remove(r)\n",
    "print(\"Set:\",set1)\n",
    "\n",
    "print(\"\\nPopped Element:\",set1.pop())\n",
    "print(\"Set:\",set1)\n",
    "\n",
    "set2  = {\"tomato\",\"pear\",\"watermelon\",\"kiwi\",\"grapes\",\"papaya\"}\n",
    "print(\"\\nSet1:\",set1)\n",
    "print(\"Set2:\",set2)\n",
    "\n",
    "print(\"\\nUnion: \", set1.union(set2))\n",
    "print(\"\\nIntersection: \", set1.intersection(set2))\n",
    "print(\"\\nDifference: \", set1.difference(set2))\n",
    "\n",
    "print(\"\\nSet1 and Set2 are disjoint: \",set1.isdisjoint(set2))\n",
    "print(\"\\nSuperSet: \", set1.issuperset(set2))\n",
    "print(\"\\nSubset: \", set1.issubset(set2))"
   ]
  },
  {
   "cell_type": "markdown",
   "metadata": {},
   "source": [
    "### Question 4 (Missing Number)"
   ]
  },
  {
   "cell_type": "code",
   "execution_count": 4,
   "metadata": {},
   "outputs": [
    {
     "name": "stdout",
     "output_type": "stream",
     "text": [
      "Enter comma separated list:4,8,6,1,0,10,5\n",
      "Sorted List [0, 1, 4, 5, 6, 8, 10]\n",
      "The missing numbers are:\n",
      "2\n",
      "3\n",
      "7\n",
      "9\n"
     ]
    }
   ],
   "source": [
    "#logic 1\n",
    "#requires an additional list numRange, and then compare list\n",
    "numlist = input(\"Enter comma separated list:\")\n",
    "numlist = list(map(lambda s : int(s), numlist.split(',')))\n",
    "numlist.sort()\n",
    "print(\"Sorted List\", numlist)\n",
    "numRange = list(range(numlist[0],numlist[len(numlist)-1]))\n",
    "j = 0\n",
    "print(\"The missing numbers are:\")\n",
    "for i in numRange:\n",
    "    if i != numlist[j]:\n",
    "        print(i)\n",
    "    else:\n",
    "        j = j + 1"
   ]
  },
  {
   "cell_type": "code",
   "execution_count": 10,
   "metadata": {},
   "outputs": [
    {
     "name": "stdout",
     "output_type": "stream",
     "text": [
      "Enter comma separated list:2,3,7,10,12\n",
      "Sorted List [2, 3, 7, 10, 12]\n",
      "4\n",
      "5\n",
      "6\n",
      "8\n",
      "9\n",
      "11\n",
      "final list: [2, 3, 4, 5, 6, 7, 8, 9, 10, 11, 12]\n"
     ]
    }
   ],
   "source": [
    "#logic 2\n",
    "#requires only one list, work on difference between consequtive elements\n",
    "numlist = input(\"Enter comma separated list:\")\n",
    "numlist = list(map(lambda s : int(s), numlist.split(',')))\n",
    "numlist.sort()\n",
    "print(\"Sorted List\", numlist)\n",
    "i=0\n",
    "j=1\n",
    "while i<len(numlist) and j<len(numlist):\n",
    "    if(numlist[j] - numlist[i]) != 1:\n",
    "        print(numlist[i]+1)\n",
    "        numlist.insert(i+1,numlist[i]+1)\n",
    "    i = i+1\n",
    "    j = j+1\n",
    "print(\"final list:\",numlist)    "
   ]
  },
  {
   "cell_type": "markdown",
   "metadata": {},
   "source": [
    "### Question 5 (Remove duplicates)"
   ]
  },
  {
   "cell_type": "code",
   "execution_count": 11,
   "metadata": {},
   "outputs": [
    {
     "name": "stdout",
     "output_type": "stream",
     "text": [
      "Enter comma separated list:3,7,8,5,6,4,8,3,9,2\n",
      "List without Duplicates: [3, 7, 8, 5, 6, 4, 9, 2]\n"
     ]
    }
   ],
   "source": [
    "numl = input(\"Enter comma separated list:\")\n",
    "numl = list(map(lambda s : int(s), numl.split(',')))\n",
    "res = []\n",
    "[res.append(x) for x in numl if x not in res]\n",
    "print(\"List without Duplicates:\",res)"
   ]
  }
 ],
 "metadata": {
  "kernelspec": {
   "display_name": "Python 3",
   "language": "python",
   "name": "python3"
  },
  "language_info": {
   "codemirror_mode": {
    "name": "ipython",
    "version": 3
   },
   "file_extension": ".py",
   "mimetype": "text/x-python",
   "name": "python",
   "nbconvert_exporter": "python",
   "pygments_lexer": "ipython3",
   "version": "3.7.6"
  }
 },
 "nbformat": 4,
 "nbformat_minor": 4
}
