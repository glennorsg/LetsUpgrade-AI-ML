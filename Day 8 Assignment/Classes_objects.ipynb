{
 "cells": [
  {
   "cell_type": "markdown",
   "metadata": {},
   "source": [
    "### Classes and Objects"
   ]
  },
  {
   "cell_type": "code",
   "execution_count": 19,
   "metadata": {},
   "outputs": [],
   "source": [
    "# Class\n",
    "\n",
    "#Class name\n",
    "class Employee:\n",
    "    # Class Doc String for documentation\n",
    "    'Employee Class'\n",
    "    #class variable (similar to static variable in java)\n",
    "    empCount = 0\n",
    "    #constructor\n",
    "    #constructor can accept 0,1,2 parameters is they have default values\n",
    "    def __init__(self,name = \"\",salary=0):\n",
    "        self.name = name\n",
    "        self.salary = salary\n",
    "        Employee.empCount +=1\n",
    "        \n",
    "    def displayCount(self):\n",
    "        print(\"There are \",Employee.empCount, \" Employee(s)\")\n",
    "    \n",
    "    def displayEmp(self):\n",
    "        print(\"\\nName:\",self.name,\"\\nSalary:\",self.salary)\n",
    "    "
   ]
  },
  {
   "cell_type": "code",
   "execution_count": 2,
   "metadata": {},
   "outputs": [
    {
     "name": "stdout",
     "output_type": "stream",
     "text": [
      "\n",
      "Name: Glenn Vednesan \n",
      "Salary: 20000\n",
      "There are  1  Employee(s)\n"
     ]
    }
   ],
   "source": [
    "# Creating an instance\n",
    "emp1 = Employee(\"Glenn Vednesan\", 20000)\n",
    "#calling class methods\n",
    "emp1.displayEmp()\n",
    "emp1.displayCount()"
   ]
  },
  {
   "cell_type": "code",
   "execution_count": 5,
   "metadata": {},
   "outputs": [
    {
     "name": "stdout",
     "output_type": "stream",
     "text": [
      "\n",
      "Name: ABC \n",
      "Salary: 0\n",
      "There are  3  Employee(s)\n"
     ]
    }
   ],
   "source": [
    "emp2 = Employee(\"ABC\")\n",
    "emp2.displayEmp()\n",
    "emp2.displayCount()"
   ]
  },
  {
   "cell_type": "code",
   "execution_count": 6,
   "metadata": {},
   "outputs": [
    {
     "name": "stdout",
     "output_type": "stream",
     "text": [
      "50\n"
     ]
    }
   ],
   "source": [
    "# adding Attributes to a class\n",
    "emp2.age = 50\n",
    "\n",
    "print(emp2.age)"
   ]
  },
  {
   "cell_type": "code",
   "execution_count": 7,
   "metadata": {},
   "outputs": [
    {
     "ename": "AttributeError",
     "evalue": "'Employee' object has no attribute 'age'",
     "output_type": "error",
     "traceback": [
      "\u001b[1;31m---------------------------------------------------------------------------\u001b[0m",
      "\u001b[1;31mAttributeError\u001b[0m                            Traceback (most recent call last)",
      "\u001b[1;32m<ipython-input-7-0d569e33fad3>\u001b[0m in \u001b[0;36m<module>\u001b[1;34m\u001b[0m\n\u001b[1;32m----> 1\u001b[1;33m \u001b[0memp1\u001b[0m\u001b[1;33m.\u001b[0m\u001b[0mage\u001b[0m\u001b[1;33m\u001b[0m\u001b[1;33m\u001b[0m\u001b[0m\n\u001b[0m",
      "\u001b[1;31mAttributeError\u001b[0m: 'Employee' object has no attribute 'age'"
     ]
    }
   ],
   "source": [
    "#Employee class does not have an age attribute\n",
    "emp1.age"
   ]
  },
  {
   "cell_type": "markdown",
   "metadata": {},
   "source": [
    "### Built in methods for class attributes"
   ]
  },
  {
   "cell_type": "code",
   "execution_count": 13,
   "metadata": {},
   "outputs": [
    {
     "name": "stdout",
     "output_type": "stream",
     "text": [
      "Has Attr age: False\n",
      "Age: 25\n",
      "Age Deleted!\n",
      "Has age: False\n"
     ]
    }
   ],
   "source": [
    "# built in functions\n",
    "#Check if attribute is present\n",
    "print(\"Has Attr age:\",hasattr(emp1, 'age'))\n",
    "#Set an attribute\n",
    "setattr(emp1, 'age', 25)\n",
    "#get an attribute\n",
    "print(\"Age:\",getattr(emp1, 'age'))\n",
    "\n",
    "#delete an attribute\n",
    "delattr(emp1, 'age')\n",
    "print(\"Age Deleted!\")\n",
    "print(\"Has age:\", hasattr(emp1,'age'))"
   ]
  },
  {
   "cell_type": "markdown",
   "metadata": {},
   "source": [
    "### Built in Class Attributes\n",
    "Used to get class properties like name, namespace, module, base classes"
   ]
  },
  {
   "cell_type": "code",
   "execution_count": 20,
   "metadata": {},
   "outputs": [
    {
     "name": "stdout",
     "output_type": "stream",
     "text": [
      "Class Name: Employee\n",
      "Docstring: Employee Class\n",
      "Module: __main__\n",
      "Bases: (<class 'object'>,)\n",
      "Dict: {'__module__': '__main__', '__doc__': 'Employee Class', 'empCount': 0, '__init__': <function Employee.__init__ at 0x000001B6F6AADA68>, 'displayCount': <function Employee.displayCount at 0x000001B6F6AADB88>, 'displayEmp': <function Employee.displayEmp at 0x000001B6F6AAD438>, '__dict__': <attribute '__dict__' of 'Employee' objects>, '__weakref__': <attribute '__weakref__' of 'Employee' objects>}\n"
     ]
    }
   ],
   "source": [
    "# Built in attributes\n",
    "print(\"Class Name:\",Employee.__name__) # Access Class name\n",
    "print(\"Docstring:\",Employee.__doc__) # Access Class doc String\n",
    "print(\"Module:\",Employee.__module__) # Module in which the class is defined\n",
    "print(\"Bases:\",Employee.__bases__) # Base Classes of the Class\n",
    "print(\"Dict:\",Employee.__dict__) #Dictionary of class' namespace"
   ]
  },
  {
   "cell_type": "markdown",
   "metadata": {},
   "source": [
    "### Destructor\n",
    "Used to perform clean ups when an object is deleted\n"
   ]
  },
  {
   "cell_type": "code",
   "execution_count": 22,
   "metadata": {},
   "outputs": [
    {
     "name": "stdout",
     "output_type": "stream",
     "text": [
      "IDs: 1885320064008 1885320064712\n",
      "Point  Destroyed!\n",
      "Point  Destroyed!\n"
     ]
    }
   ],
   "source": [
    "class Point:\n",
    "    def __init__(self, x=0, y=0):\n",
    "        self.x = x\n",
    "        self.y = y\n",
    "    # Destructor\n",
    "    def __del__(self):\n",
    "        name = self.__class__.__name__\n",
    "        print(name, \" Destroyed!\")\n",
    "\n",
    "p1 = Point(2,3)\n",
    "p2 = Point(3,4)\n",
    "print(\"IDs:\",id(p1),id(p2))\n",
    "del p1\n",
    "del p2\n"
   ]
  },
  {
   "cell_type": "markdown",
   "metadata": {},
   "source": [
    "### Class Inheritance\n",
    "Inheritance can be used in classes to reuse the attributes and methods of a class into another class.\n",
    "\n",
    "The class which is inherited is called the Parent Class or Base class.\n",
    "The class which inherits another class is called the Child Class or Derived class."
   ]
  },
  {
   "cell_type": "code",
   "execution_count": 39,
   "metadata": {},
   "outputs": [],
   "source": [
    "import sys\n",
    "#Parent class (Base Class)\n",
    "class Shape:\n",
    "    def __init__(self,name = \"\"):\n",
    "        print(\"This is Shape class.\")\n",
    "        self.name = name\n",
    "    # function should be inherited compulsarily\n",
    "    def area(self):\n",
    "        raise NotImplementedError(\"Subclasses should implement area function!\")\n",
    "    \n",
    "    # set name of shape\n",
    "    def setname(self,name):\n",
    "        self.name = name\n",
    "    \n",
    "    def getname(self):\n",
    "        return self.name"
   ]
  },
  {
   "cell_type": "code",
   "execution_count": 40,
   "metadata": {},
   "outputs": [],
   "source": [
    "#Child Class (Derived Class)\n",
    "import math as m\n",
    "class Circle(Shape): #Inheriting Shape Class\n",
    "    def __init__(self,radius=0):\n",
    "        Shape.__init__(self,\"Circle\")\n",
    "        print(\"This is Circle Class!!\")\n",
    "        self.radius = radius\n",
    "    \n",
    "    def setRadius(self,radius):\n",
    "        self.radius = radius"
   ]
  },
  {
   "cell_type": "code",
   "execution_count": 44,
   "metadata": {},
   "outputs": [
    {
     "name": "stdout",
     "output_type": "stream",
     "text": [
      "This is Shape class.\n",
      "This is Circle Class!!\n"
     ]
    },
    {
     "ename": "NotImplementedError",
     "evalue": "Subclasses should implement area function!",
     "output_type": "error",
     "traceback": [
      "\u001b[1;31m---------------------------------------------------------------------------\u001b[0m",
      "\u001b[1;31mNotImplementedError\u001b[0m                       Traceback (most recent call last)",
      "\u001b[1;32m<ipython-input-44-20988cbf521f>\u001b[0m in \u001b[0;36m<module>\u001b[1;34m\u001b[0m\n\u001b[0;32m      1\u001b[0m \u001b[1;31m#Instantiate\u001b[0m\u001b[1;33m\u001b[0m\u001b[1;33m\u001b[0m\u001b[1;33m\u001b[0m\u001b[0m\n\u001b[0;32m      2\u001b[0m \u001b[0mc\u001b[0m \u001b[1;33m=\u001b[0m \u001b[0mCircle\u001b[0m\u001b[1;33m(\u001b[0m\u001b[1;36m10\u001b[0m\u001b[1;33m)\u001b[0m\u001b[1;33m\u001b[0m\u001b[1;33m\u001b[0m\u001b[0m\n\u001b[1;32m----> 3\u001b[1;33m \u001b[0mprint\u001b[0m\u001b[1;33m(\u001b[0m\u001b[1;34m\"AREA:\"\u001b[0m\u001b[1;33m,\u001b[0m\u001b[0mc\u001b[0m\u001b[1;33m.\u001b[0m\u001b[0marea\u001b[0m\u001b[1;33m(\u001b[0m\u001b[1;33m)\u001b[0m\u001b[1;33m)\u001b[0m\u001b[1;31m# will throw error if not implemented\u001b[0m\u001b[1;33m\u001b[0m\u001b[1;33m\u001b[0m\u001b[0m\n\u001b[0m",
      "\u001b[1;32m<ipython-input-39-8835bc526352>\u001b[0m in \u001b[0;36marea\u001b[1;34m(self)\u001b[0m\n\u001b[0;32m      7\u001b[0m     \u001b[1;31m# function should be inherited compulsarily\u001b[0m\u001b[1;33m\u001b[0m\u001b[1;33m\u001b[0m\u001b[1;33m\u001b[0m\u001b[0m\n\u001b[0;32m      8\u001b[0m     \u001b[1;32mdef\u001b[0m \u001b[0marea\u001b[0m\u001b[1;33m(\u001b[0m\u001b[0mself\u001b[0m\u001b[1;33m)\u001b[0m\u001b[1;33m:\u001b[0m\u001b[1;33m\u001b[0m\u001b[1;33m\u001b[0m\u001b[0m\n\u001b[1;32m----> 9\u001b[1;33m         \u001b[1;32mraise\u001b[0m \u001b[0mNotImplementedError\u001b[0m\u001b[1;33m(\u001b[0m\u001b[1;34m\"Subclasses should implement area function!\"\u001b[0m\u001b[1;33m)\u001b[0m\u001b[1;33m\u001b[0m\u001b[1;33m\u001b[0m\u001b[0m\n\u001b[0m\u001b[0;32m     10\u001b[0m \u001b[1;33m\u001b[0m\u001b[0m\n\u001b[0;32m     11\u001b[0m     \u001b[1;31m# set name of shape\u001b[0m\u001b[1;33m\u001b[0m\u001b[1;33m\u001b[0m\u001b[1;33m\u001b[0m\u001b[0m\n",
      "\u001b[1;31mNotImplementedError\u001b[0m: Subclasses should implement area function!"
     ]
    }
   ],
   "source": [
    "#Instantiate\n",
    "c = Circle(10)\n",
    "print(\"AREA:\",c.area())# will throw error if not implemented"
   ]
  },
  {
   "cell_type": "code",
   "execution_count": 45,
   "metadata": {},
   "outputs": [],
   "source": [
    "#Child Class (Derived Class)\n",
    "import math as m\n",
    "class Circle(Shape): #Inheriting Shape Class\n",
    "    def __init__(self,radius=0):\n",
    "        Shape.__init__(self,\"Circle\")\n",
    "        print(\"This is Circle Class!!\")\n",
    "        self.radius = radius\n",
    "        \n",
    "    def area(self):                    #Overiding base class function Area : redefining the function definition\n",
    "        return m.pi * (self.radius**2)\n",
    "    \n",
    "    def setRadius(self,radius):\n",
    "        self.radius = radius"
   ]
  },
  {
   "cell_type": "code",
   "execution_count": 46,
   "metadata": {},
   "outputs": [
    {
     "name": "stdout",
     "output_type": "stream",
     "text": [
      "This is Shape class.\n",
      "This is Circle Class!!\n",
      "AREA: 314.1592653589793\n"
     ]
    }
   ],
   "source": [
    "#Instantiate\n",
    "c1 = Circle(10)\n",
    "print(\"AREA:\",c1.area())"
   ]
  },
  {
   "cell_type": "code",
   "execution_count": 48,
   "metadata": {},
   "outputs": [
    {
     "name": "stdout",
     "output_type": "stream",
     "text": [
      "Name: Circle\n",
      "Name after setting: Oval\n"
     ]
    }
   ],
   "source": [
    "#Accessing base class methods from derived class object\n",
    "print(\"Name:\",c.getname())\n",
    "c.setname(\"Oval\")\n",
    "print(\"Name after setting:\",c.getname())"
   ]
  },
  {
   "cell_type": "code",
   "execution_count": 49,
   "metadata": {},
   "outputs": [
    {
     "name": "stdout",
     "output_type": "stream",
     "text": [
      "Circle is subclass of shape: True\n",
      "c1 is an instance of Circle: True\n"
     ]
    }
   ],
   "source": [
    "#inbuilt functions\n",
    "print(\"Circle is subclass of shape:\", issubclass(Circle,Shape))\n",
    "print(\"c1 is an instance of Circle:\", isinstance(c1,Circle))"
   ]
  },
  {
   "cell_type": "markdown",
   "metadata": {},
   "source": [
    "### Inbuilt base functions, Data Hiding\n",
    "__ init __ : Constructor\n",
    "\n",
    "__ del __ : Destructor\n",
    "\n",
    "__ str__ : to return string representation of the class data\n",
    "\n",
    "__ cmp __ : comparing two class objects\n",
    "\n",
    "These methods can also be overidden in the class."
   ]
  },
  {
   "cell_type": "code",
   "execution_count": 52,
   "metadata": {},
   "outputs": [],
   "source": [
    "class BankAccount:\n",
    "    __ acc_no =0 #Private Memeber(Data Hiding)\n",
    "    def __init__(self,name,acc_no,balance):\n",
    "        self.name = name \n",
    "        self.acc_no = __acc_no\n",
    "        self.balance = balance\n",
    "    \n",
    "    def __str__(self):\n",
    "        print(\"Name:\",self.name,\"\\nAcc No.:\",self.__acc_no,\"\\nBalance:\",self.balance)\n",
    "        \n",
    "    def getAccNo(self):\n",
    "        return self.__acc_no\n",
    "        "
   ]
  },
  {
   "cell_type": "code",
   "execution_count": 55,
   "metadata": {},
   "outputs": [
    {
     "ename": "AttributeError",
     "evalue": "'BankAccount' object has no attribute '__acc_no'",
     "output_type": "error",
     "traceback": [
      "\u001b[1;31m---------------------------------------------------------------------------\u001b[0m",
      "\u001b[1;31mAttributeError\u001b[0m                            Traceback (most recent call last)",
      "\u001b[1;32m<ipython-input-55-fcff29571295>\u001b[0m in \u001b[0;36m<module>\u001b[1;34m\u001b[0m\n\u001b[0;32m      1\u001b[0m \u001b[1;31m#cannot access the private member using dot operator\u001b[0m\u001b[1;33m\u001b[0m\u001b[1;33m\u001b[0m\u001b[1;33m\u001b[0m\u001b[0m\n\u001b[0;32m      2\u001b[0m \u001b[0mba\u001b[0m \u001b[1;33m=\u001b[0m \u001b[0mBankAccount\u001b[0m\u001b[1;33m(\u001b[0m\u001b[1;34m\"Glenn\"\u001b[0m\u001b[1;33m,\u001b[0m\u001b[1;36m19085683937\u001b[0m\u001b[1;33m,\u001b[0m \u001b[1;36m10000\u001b[0m\u001b[1;33m)\u001b[0m\u001b[1;33m\u001b[0m\u001b[1;33m\u001b[0m\u001b[0m\n\u001b[1;32m----> 3\u001b[1;33m \u001b[0mprint\u001b[0m\u001b[1;33m(\u001b[0m\u001b[0mba\u001b[0m\u001b[1;33m.\u001b[0m\u001b[0m__acc_no\u001b[0m\u001b[1;33m)\u001b[0m \u001b[1;31m#Because its a private member(Data Hiding)\u001b[0m\u001b[1;33m\u001b[0m\u001b[1;33m\u001b[0m\u001b[0m\n\u001b[0m",
      "\u001b[1;31mAttributeError\u001b[0m: 'BankAccount' object has no attribute '__acc_no'"
     ]
    }
   ],
   "source": [
    "#cannot access the private member using dot operator\n",
    "ba = BankAccount(\"Glenn\",19085683937, 10000)\n",
    "print(ba.__acc_no) #Because its a private member(Data Hiding)"
   ]
  },
  {
   "cell_type": "code",
   "execution_count": 56,
   "metadata": {},
   "outputs": [
    {
     "name": "stdout",
     "output_type": "stream",
     "text": [
      "Name: Glenn \n",
      "Acc No.: 19085683937 \n",
      "Balance: 10000\n",
      "Bank Account: None\n"
     ]
    }
   ],
   "source": [
    "print(\"Bank Account:\",ba.__str__()) # overidden inbuilt class function\n"
   ]
  },
  {
   "cell_type": "markdown",
   "metadata": {},
   "source": [
    "### Operator Overloading\n",
    "Default operators in python like +,-,\\*,/,//,%,** can be overloaded to perform the same operations on more complex objects like vectors, etc."
   ]
  },
  {
   "cell_type": "code",
   "execution_count": 59,
   "metadata": {},
   "outputs": [],
   "source": [
    "class Vector:\n",
    "    def __init__(self,a,b):\n",
    "        self.a = a\n",
    "        self.b = b\n",
    "    \n",
    "    def __add__(self,obj): #Overloading the + operator\n",
    "        a = self.a + obj.a\n",
    "        b = self.b + obj.b\n",
    "        return Vector(a,b)\n",
    "    \n",
    "    def __str__(self):\n",
    "        return \"({0},{1})\".format(self.a, self.b)"
   ]
  },
  {
   "cell_type": "code",
   "execution_count": 60,
   "metadata": {},
   "outputs": [
    {
     "name": "stdout",
     "output_type": "stream",
     "text": [
      "(5,7)\n"
     ]
    }
   ],
   "source": [
    "v1 = Vector(2,3)\n",
    "v2 = Vector(3,4)\n",
    "\n",
    "print(v1+v2) # Gives a call internally to the __add__ function of the class"
   ]
  },
  {
   "cell_type": "code",
   "execution_count": null,
   "metadata": {},
   "outputs": [],
   "source": []
  }
 ],
 "metadata": {
  "kernelspec": {
   "display_name": "Python 3",
   "language": "python",
   "name": "python3"
  },
  "language_info": {
   "codemirror_mode": {
    "name": "ipython",
    "version": 3
   },
   "file_extension": ".py",
   "mimetype": "text/x-python",
   "name": "python",
   "nbconvert_exporter": "python",
   "pygments_lexer": "ipython3",
   "version": "3.7.6"
  }
 },
 "nbformat": 4,
 "nbformat_minor": 4
}
