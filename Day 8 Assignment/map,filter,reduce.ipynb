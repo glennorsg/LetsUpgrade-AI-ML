{
 "cells": [
  {
   "cell_type": "code",
   "execution_count": 3,
   "metadata": {},
   "outputs": [
    {
     "name": "stdout",
     "output_type": "stream",
     "text": [
      "<map object at 0x00000115CA4B0748>\n",
      "[1, 4, 16, 25, 9, 36, 49]\n"
     ]
    }
   ],
   "source": [
    "# map\n",
    "def sqr(x):\n",
    "    return x*x\n",
    "m = map(sqr, [1,2,4,5,3,6,7])\n",
    "print(m)\n",
    "print(list(m))"
   ]
  },
  {
   "cell_type": "code",
   "execution_count": 4,
   "metadata": {},
   "outputs": [
    {
     "name": "stdout",
     "output_type": "stream",
     "text": [
      "[6, 14, 24, 36, 50]\n"
     ]
    }
   ],
   "source": [
    "# map with 2 paramaters\n",
    "def mult(a,b):\n",
    "    return a*b\n",
    "print(list(map(mult,[1,2,3,4,5],[6,7,8,9,10])))"
   ]
  },
  {
   "cell_type": "code",
   "execution_count": 5,
   "metadata": {},
   "outputs": [
    {
     "name": "stdout",
     "output_type": "stream",
     "text": [
      "[0, 11, 24, 39, 56]\n"
     ]
    }
   ],
   "source": [
    "print(list(map(mult,[i for i in range(5)],[i for i in range(10,16)])))"
   ]
  },
  {
   "cell_type": "code",
   "execution_count": 8,
   "metadata": {
    "scrolled": true
   },
   "outputs": [
    {
     "name": "stdout",
     "output_type": "stream",
     "text": [
      "25\n"
     ]
    }
   ],
   "source": [
    "# Lambda Functions\n",
    "z = lambda x,y : (x**2)+(y**2)\n",
    "print(z(3,4))"
   ]
  },
  {
   "cell_type": "code",
   "execution_count": 7,
   "metadata": {},
   "outputs": [
    {
     "name": "stdout",
     "output_type": "stream",
     "text": [
      "[32, 1024, 7776, 32768, 100000, 248832]\n"
     ]
    }
   ],
   "source": [
    "#lambda with map\n",
    "h = list(map(lambda x: (x**5), [2,4,6,8,10,12]))\n",
    "print(h)"
   ]
  },
  {
   "cell_type": "code",
   "execution_count": 10,
   "metadata": {},
   "outputs": [
    {
     "name": "stdout",
     "output_type": "stream",
     "text": [
      "[6, 7, 4, 3]\n"
     ]
    }
   ],
   "source": [
    "# filters\n",
    "def abc(a):\n",
    "    if a>=3:\n",
    "        return a\n",
    "l = list(filter(abc, [0.1,2,1.5,6,7,4,3]))\n",
    "print(l)"
   ]
  },
  {
   "cell_type": "code",
   "execution_count": 11,
   "metadata": {},
   "outputs": [
    {
     "name": "stdout",
     "output_type": "stream",
     "text": [
      "[2, 4, 10, 60]\n"
     ]
    }
   ],
   "source": [
    "# filter with lambda\n",
    "print(list(filter(lambda a: a%2==0, [2,3,4,5,10,19,17,29,60])))"
   ]
  },
  {
   "cell_type": "code",
   "execution_count": 18,
   "metadata": {},
   "outputs": [
    {
     "name": "stdout",
     "output_type": "stream",
     "text": [
      "15\n"
     ]
    }
   ],
   "source": [
    "# reduce\n",
    "from functools import reduce\n",
    "def cube(x,y):\n",
    "    return x + y\n",
    "print(reduce(cube, [1,2,3,4,5]))"
   ]
  },
  {
   "cell_type": "code",
   "execution_count": 21,
   "metadata": {},
   "outputs": [
    {
     "name": "stdout",
     "output_type": "stream",
     "text": [
      "3840\n"
     ]
    }
   ],
   "source": [
    "# reduce with lambda\n",
    "print(reduce(lambda x,y: x*y, [2,4,6,8,10]))"
   ]
  },
  {
   "cell_type": "code",
   "execution_count": 23,
   "metadata": {},
   "outputs": [
    {
     "name": "stdout",
     "output_type": "stream",
     "text": [
      "[0, 8, 64, 216, 512, 1000, 1728, 2744, 4096, 5832]\n"
     ]
    }
   ],
   "source": [
    "# filter within map\n",
    "print(list(map(lambda x: x**3, filter(lambda y: y%2==0,range(20)))))"
   ]
  },
  {
   "cell_type": "code",
   "execution_count": 24,
   "metadata": {},
   "outputs": [
    {
     "name": "stdout",
     "output_type": "stream",
     "text": [
      "[1, 9, 25, 49, 81, 121, 169, 225, 289, 361]\n"
     ]
    }
   ],
   "source": [
    "# map inside a filter\n",
    "print(list(filter(lambda b: b%2!=0, map(lambda c: c**2, range(20)))))"
   ]
  },
  {
   "cell_type": "code",
   "execution_count": 29,
   "metadata": {},
   "outputs": [
    {
     "name": "stdout",
     "output_type": "stream",
     "text": [
      "-3840\n"
     ]
    }
   ],
   "source": [
    "# map and filter within reduce\n",
    "x= reduce(lambda x,y:x*y, \n",
    "          map(lambda z: 2*z, \n",
    "              filter(lambda w: w<0,\n",
    "                     range(-5,5,1))))\n",
    "print(x)"
   ]
  },
  {
   "cell_type": "code",
   "execution_count": null,
   "metadata": {},
   "outputs": [],
   "source": []
  }
 ],
 "metadata": {
  "kernelspec": {
   "display_name": "Python 3",
   "language": "python",
   "name": "python3"
  },
  "language_info": {
   "codemirror_mode": {
    "name": "ipython",
    "version": 3
   },
   "file_extension": ".py",
   "mimetype": "text/x-python",
   "name": "python",
   "nbconvert_exporter": "python",
   "pygments_lexer": "ipython3",
   "version": "3.7.6"
  }
 },
 "nbformat": 4,
 "nbformat_minor": 4
}
