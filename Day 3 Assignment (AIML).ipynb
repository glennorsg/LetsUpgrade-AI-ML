{
 "cells": [
  {
   "cell_type": "markdown",
   "metadata": {},
   "source": [
    "### Question 1 (Subtraction of complex numbers)\n"
   ]
  },
  {
   "cell_type": "code",
   "execution_count": 1,
   "metadata": {},
   "outputs": [
    {
     "name": "stdout",
     "output_type": "stream",
     "text": [
      "(6+3j)\n"
     ]
    }
   ],
   "source": [
    "c1 = 10+9j\n",
    "c2 = 4+6j\n",
    "print(\"Subtraction: \",c1-c2)"
   ]
  },
  {
   "cell_type": "code",
   "execution_count": 5,
   "metadata": {},
   "outputs": [
    {
     "name": "stdout",
     "output_type": "stream",
     "text": [
      "Enter Complex number 1:8+9j\n",
      "Enter Complex number 2:2+3j\n",
      "(8+9j)\n",
      "(2+3j)\n",
      "Subtraction:  (6+6j)\n"
     ]
    }
   ],
   "source": [
    "c3 = complex(input(\"Enter Complex number 1:\"))\n",
    "c4 = complex(input(\"Enter Complex number 2:\"))\n",
    "print(c3)\n",
    "print(c4)\n",
    "\n",
    "print(\"Subtraction: \",c3-c4)"
   ]
  },
  {
   "cell_type": "markdown",
   "metadata": {},
   "source": [
    "### Question 2 (4th root of number)"
   ]
  },
  {
   "cell_type": "code",
   "execution_count": 10,
   "metadata": {},
   "outputs": [
    {
     "name": "stdout",
     "output_type": "stream",
     "text": [
      "Power:  0.25\n",
      "Enter the number: 625\n",
      "4th Root of 625.0 is 5.0\n"
     ]
    }
   ],
   "source": [
    "p = 1/4;\n",
    "print(\"Power: \",p)\n",
    "number = float(input(\"Enter the number: \"))\n",
    "print(\"4th Root of\",number,\"is\", number**p)"
   ]
  },
  {
   "cell_type": "markdown",
   "metadata": {},
   "source": [
    "### Question 3 (Swap two numbers)"
   ]
  },
  {
   "cell_type": "code",
   "execution_count": 11,
   "metadata": {},
   "outputs": [
    {
     "name": "stdout",
     "output_type": "stream",
     "text": [
      "Enter number 1:23\n",
      "Enter number 2:45\n",
      "Swapping...\n",
      "Number 1: 45\n",
      "Number 2: 23\n"
     ]
    }
   ],
   "source": [
    "n1 = int(input(\"Enter number 1:\"))\n",
    "n2 = int(input(\"Enter number 2:\"))\n",
    "print(\"Swapping...\")\n",
    "temp = n1\n",
    "n1 = n2\n",
    "n2 = temp\n",
    "print(\"Number 1:\", n1)\n",
    "print(\"Number 2:\", n2)"
   ]
  },
  {
   "cell_type": "markdown",
   "metadata": {},
   "source": [
    "### Question 4 (Swap two numbers without temp variable)"
   ]
  },
  {
   "cell_type": "code",
   "execution_count": 12,
   "metadata": {},
   "outputs": [
    {
     "name": "stdout",
     "output_type": "stream",
     "text": [
      "Enter number 1:25\n",
      "Enter number 2:10\n",
      "Swapping...\n",
      "Number 1: 10\n",
      "Number 2: 25\n"
     ]
    }
   ],
   "source": [
    "n1 = int(input(\"Enter number 1:\"))\n",
    "n2 = int(input(\"Enter number 2:\"))\n",
    "print(\"Swapping...\")\n",
    "n1 = n1 + n2\n",
    "n2 = n1 - n2\n",
    "n1 = n1 - n2\n",
    "print(\"Number 1:\", n1)\n",
    "print(\"Number 2:\", n2)"
   ]
  },
  {
   "cell_type": "markdown",
   "metadata": {},
   "source": [
    "### Question 5 (Fahrenheit to Celsius)"
   ]
  },
  {
   "cell_type": "code",
   "execution_count": 13,
   "metadata": {},
   "outputs": [
    {
     "name": "stdout",
     "output_type": "stream",
     "text": [
      "Enter Temperature in Fahrenheit:101.9\n",
      "\n",
      "Temperature in Celsius: 38.833333333333336\n"
     ]
    }
   ],
   "source": [
    "ftemp = float(input(\"Enter Temperature in Fahrenheit:\"))\n",
    "ctemp = (ftemp - 32.0) * (5/9)\n",
    "print(\"\\nTemperature in Celsius:\", ctemp)"
   ]
  },
  {
   "cell_type": "markdown",
   "metadata": {},
   "source": [
    "### Question 6 (Data types in Python)"
   ]
  },
  {
   "cell_type": "code",
   "execution_count": 17,
   "metadata": {},
   "outputs": [
    {
     "name": "stdout",
     "output_type": "stream",
     "text": [
      "a is a <class 'int'>\n",
      "b is a <class 'float'>\n",
      "c is a <class 'str'>\n",
      "d is a <class 'bool'>\n",
      "e is a <class 'list'>\n",
      "f is a <class 'tuple'>\n",
      "g is a <class 'set'>\n",
      "h is a <class 'complex'>\n",
      "i is a <class 'dict'>\n"
     ]
    }
   ],
   "source": [
    "a = 6998\n",
    "b = 78.987\n",
    "c = \"HELLO\"\n",
    "d = True\n",
    "e = [3,4,9.00,[1,3,5],\"World\"]\n",
    "f = (3,6,78,9)\n",
    "g = {67,99,0,80}\n",
    "h = 6+9j\n",
    "i = {\n",
    "    \"name\":\"Glenn\",\n",
    "    \"surname\":\"Vednesan\",\n",
    "    \"age\": 22\n",
    "}\n",
    "\n",
    "print(\"a is a\",type(a))\n",
    "print(\"b is a\",type(b))\n",
    "print(\"c is a\",type(c))\n",
    "print(\"d is a\",type(d))\n",
    "print(\"e is a\",type(e))\n",
    "print(\"f is a\",type(f))\n",
    "print(\"g is a\",type(g))\n",
    "print(\"h is a\",type(h))\n",
    "print(\"i is a\",type(i))"
   ]
  },
  {
   "cell_type": "code",
   "execution_count": null,
   "metadata": {},
   "outputs": [],
   "source": []
  }
 ],
 "metadata": {
  "kernelspec": {
   "display_name": "Python 3",
   "language": "python",
   "name": "python3"
  },
  "language_info": {
   "codemirror_mode": {
    "name": "ipython",
    "version": 3
   },
   "file_extension": ".py",
   "mimetype": "text/x-python",
   "name": "python",
   "nbconvert_exporter": "python",
   "pygments_lexer": "ipython3",
   "version": "3.7.6"
  }
 },
 "nbformat": 4,
 "nbformat_minor": 4
}
