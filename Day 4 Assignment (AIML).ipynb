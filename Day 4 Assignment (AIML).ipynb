{
 "cells": [
  {
   "cell_type": "markdown",
   "metadata": {},
   "source": [
    "### Question 1 (Operations on complex numbers)\n",
    "Addition, subtraction, multiplication and division can be performed on complex numbers in Python.\n",
    "Floor division and modulo operations on complex numbers are not possible in Python 3.x. They were allowed in Python 2.7.\n",
    "It generates a Type Error for floor division and modulo."
   ]
  },
  {
   "cell_type": "code",
   "execution_count": 3,
   "metadata": {},
   "outputs": [
    {
     "name": "stdout",
     "output_type": "stream",
     "text": [
      "Addition: (11+13j)\n",
      "Subtraction: (5+5j)\n",
      "Multiplication: (-12+59j)\n",
      "Division: (2.4-0.2j)\n"
     ]
    }
   ],
   "source": [
    "c1 = 8+9j\n",
    "c2 = 3+4j\n",
    "print(\"Addition:\",c1+c2)\n",
    "print(\"Subtraction:\",c1-c2)\n",
    "print(\"Multiplication:\", c1*c2)\n",
    "print(\"Division:\", c1/c2)"
   ]
  },
  {
   "cell_type": "code",
   "execution_count": 1,
   "metadata": {},
   "outputs": [
    {
     "ename": "TypeError",
     "evalue": "can't take floor of complex number.",
     "output_type": "error",
     "traceback": [
      "\u001b[1;31m---------------------------------------------------------------------------\u001b[0m",
      "\u001b[1;31mTypeError\u001b[0m                                 Traceback (most recent call last)",
      "\u001b[1;32m<ipython-input-1-ad3ab56aaced>\u001b[0m in \u001b[0;36m<module>\u001b[1;34m\u001b[0m\n\u001b[0;32m      2\u001b[0m \u001b[0mc2\u001b[0m \u001b[1;33m=\u001b[0m \u001b[1;36m3\u001b[0m\u001b[1;33m+\u001b[0m\u001b[1;36m4j\u001b[0m\u001b[1;33m\u001b[0m\u001b[1;33m\u001b[0m\u001b[0m\n\u001b[0;32m      3\u001b[0m \u001b[1;33m\u001b[0m\u001b[0m\n\u001b[1;32m----> 4\u001b[1;33m \u001b[0mprint\u001b[0m\u001b[1;33m(\u001b[0m\u001b[0mc1\u001b[0m\u001b[1;33m//\u001b[0m\u001b[0mc2\u001b[0m\u001b[1;33m)\u001b[0m\u001b[1;33m\u001b[0m\u001b[1;33m\u001b[0m\u001b[0m\n\u001b[0m",
      "\u001b[1;31mTypeError\u001b[0m: can't take floor of complex number."
     ]
    }
   ],
   "source": [
    "print(\"Floor Division:\")\n",
    "print(c1//c2)"
   ]
  },
  {
   "cell_type": "code",
   "execution_count": 2,
   "metadata": {},
   "outputs": [
    {
     "ename": "TypeError",
     "evalue": "can't mod complex numbers.",
     "output_type": "error",
     "traceback": [
      "\u001b[1;31m---------------------------------------------------------------------------\u001b[0m",
      "\u001b[1;31mTypeError\u001b[0m                                 Traceback (most recent call last)",
      "\u001b[1;32m<ipython-input-2-de14c067e0ed>\u001b[0m in \u001b[0;36m<module>\u001b[1;34m\u001b[0m\n\u001b[0;32m      1\u001b[0m \u001b[0mc1\u001b[0m \u001b[1;33m=\u001b[0m \u001b[1;36m8\u001b[0m\u001b[1;33m+\u001b[0m\u001b[1;36m9j\u001b[0m\u001b[1;33m\u001b[0m\u001b[1;33m\u001b[0m\u001b[0m\n\u001b[0;32m      2\u001b[0m \u001b[0mc2\u001b[0m \u001b[1;33m=\u001b[0m \u001b[1;36m3\u001b[0m\u001b[1;33m+\u001b[0m\u001b[1;36m4j\u001b[0m\u001b[1;33m\u001b[0m\u001b[1;33m\u001b[0m\u001b[0m\n\u001b[1;32m----> 3\u001b[1;33m \u001b[0mprint\u001b[0m\u001b[1;33m(\u001b[0m\u001b[0mc1\u001b[0m\u001b[1;33m%\u001b[0m\u001b[0mc2\u001b[0m\u001b[1;33m)\u001b[0m\u001b[1;33m\u001b[0m\u001b[1;33m\u001b[0m\u001b[0m\n\u001b[0m",
      "\u001b[1;31mTypeError\u001b[0m: can't mod complex numbers."
     ]
    }
   ],
   "source": [
    "print(\"Modulo :\")\n",
    "print(c1%c2)"
   ]
  },
  {
   "cell_type": "markdown",
   "metadata": {},
   "source": [
    "### Question 2 (Range function)"
   ]
  },
  {
   "cell_type": "markdown",
   "metadata": {},
   "source": [
    "1.The range() function in python is used to generated sequences. The sequence  can be customised by using the three parameters that the range function takes:\n",
    "\n",
    "a)start: used to specify the starting point of the squence. This is an optional parameter. If not specified, it will start the sequence from 0.\n",
    "\n",
    "b)stop: used to specify the upper limit of the sequence. This is a mandatory parameter.\n",
    "\n",
    "c)step: used to specify the number of elements to skip after each element of the sequence. This parameter is not mandatory. By default the step size is 1.\n",
    "Step size can also be negative in which case (start > stop).\n",
    "\n",
    "2.range() function always returns a iterable and the values can be accessed using indexing and loops.\n",
    "\n",
    "Program below will demonstrates finding all the perfect squares between the given range:"
   ]
  },
  {
   "cell_type": "code",
   "execution_count": 2,
   "metadata": {},
   "outputs": [
    {
     "name": "stdout",
     "output_type": "stream",
     "text": [
      "Enter Starting number:1\n",
      "Enter Ending number100\n",
      "The Perfect squares between 1 and 100 are:\n",
      "1 4 9 16 25 36 49 64 81 "
     ]
    }
   ],
   "source": [
    "import math as m\n",
    "start = int(input(\"Enter Starting number:\"))\n",
    "end = int(input(\"Enter Ending number\"))\n",
    "print(\"The Perfect squares between\",start,\"and\",end,\"are:\")\n",
    "for i in range(start,end):\n",
    "    if m.sqrt(i) == int(m.sqrt(i)):\n",
    "        print(i, end=\" \")\n"
   ]
  },
  {
   "cell_type": "markdown",
   "metadata": {},
   "source": [
    "### Question 3 (Subtraction and (multiplication or division))"
   ]
  },
  {
   "cell_type": "code",
   "execution_count": 3,
   "metadata": {},
   "outputs": [
    {
     "name": "stdout",
     "output_type": "stream",
     "text": [
      "Enter number 1:80\n",
      "Enter number 2:65\n",
      "Subtraction: 15\n",
      "Division: 1.2307692307692308\n"
     ]
    }
   ],
   "source": [
    "num1 = int(input(\"Enter number 1:\"))\n",
    "num2 = int(input(\"Enter number 2:\"))\n",
    "s = num1-num2\n",
    "print(\"Subtraction:\",s) \n",
    "if s>25:\n",
    "    print(\"Multiplication :\", num1*num2)\n",
    "else:\n",
    "    print(\"Division:\",num1/num2)"
   ]
  },
  {
   "cell_type": "markdown",
   "metadata": {},
   "source": [
    "### Question 4 (List with numbers divisible by 2)"
   ]
  },
  {
   "cell_type": "code",
   "execution_count": 4,
   "metadata": {},
   "outputs": [
    {
     "name": "stdout",
     "output_type": "stream",
     "text": [
      "List: [56, 78, 92, 74, 19, 54, 21, 34, 90, 87]\n",
      "Result:\n",
      "3134 6082 8462 5474 2914 1154 8098 "
     ]
    }
   ],
   "source": [
    "list = [56,78,92,74,19,54,21,34,90,87]\n",
    "print(\"List:\",list)\n",
    "print(\"Result:\")\n",
    "for i in list:\n",
    "    if i % 2 == 0:\n",
    "        print((i**2)-2,end=\" \")"
   ]
  },
  {
   "cell_type": "markdown",
   "metadata": {},
   "source": [
    "### Question 5 (Number greater than 7 when divided by 2)"
   ]
  },
  {
   "cell_type": "code",
   "execution_count": 6,
   "metadata": {},
   "outputs": [
    {
     "name": "stdout",
     "output_type": "stream",
     "text": [
      "List: [2, 45, 8, 90, 36, 12, 32, 24, 1, 7]\n",
      "Result:\n",
      "45 90 36 32 24 "
     ]
    }
   ],
   "source": [
    "l = [2,45,8,90,36,12,32,24,1,7]\n",
    "print(\"List:\",l)\n",
    "print(\"Result:\")\n",
    "for i in l:\n",
    "    if (i/2) > 7:\n",
    "        print(i,end=\" \")"
   ]
  },
  {
   "cell_type": "code",
   "execution_count": null,
   "metadata": {},
   "outputs": [],
   "source": []
  }
 ],
 "metadata": {
  "kernelspec": {
   "display_name": "Python 3",
   "language": "python",
   "name": "python3"
  },
  "language_info": {
   "codemirror_mode": {
    "name": "ipython",
    "version": 3
   },
   "file_extension": ".py",
   "mimetype": "text/x-python",
   "name": "python",
   "nbconvert_exporter": "python",
   "pygments_lexer": "ipython3",
   "version": "3.7.6"
  }
 },
 "nbformat": 4,
 "nbformat_minor": 4
}
